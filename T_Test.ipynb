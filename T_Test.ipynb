{
 "cells": [
  {
   "cell_type": "code",
   "execution_count": 1,
   "id": "cb67b88c-1ac7-4930-900b-5c64b6903df9",
   "metadata": {},
   "outputs": [],
   "source": [
    "import numpy as np\n",
    "from scipy import stats"
   ]
  },
  {
   "cell_type": "code",
   "execution_count": 4,
   "id": "becb70a0-ef76-467c-af41-e9d53f31e737",
   "metadata": {},
   "outputs": [],
   "source": [
    "sample=[172,174,168,169,171,173,175,170,169,172]\n",
    "sample_mean = np.mean(sample)\n",
    "sample_std = np.std(sample,ddof=1)                     # dof = \n",
    "n=len(sample)\n",
    "population_mean =170\n"
   ]
  },
  {
   "cell_type": "code",
   "execution_count": 5,
   "id": "9d5d4d15-f9bf-423e-8808-e6f6c85cb09d",
   "metadata": {},
   "outputs": [
    {
     "data": {
      "text/plain": [
       "np.float64(1.7782469350914734)"
      ]
     },
     "execution_count": 5,
     "metadata": {},
     "output_type": "execute_result"
    }
   ],
   "source": [
    "t_stats = (sample_mean-population_mean)/(sample_std/np.sqrt(n))\n",
    "t_stats"
   ]
  },
  {
   "cell_type": "code",
   "execution_count": 9,
   "id": "133df19f-613c-4871-8104-3469c08b4c85",
   "metadata": {},
   "outputs": [],
   "source": [
    "p_value = 2*(1-stats.t.cdf(abs(t_stats),df=n-1))\n",
    "alpha = 0.05"
   ]
  },
  {
   "cell_type": "code",
   "execution_count": 10,
   "id": "df2c457a-f0db-4c52-8129-f21bd3585795",
   "metadata": {},
   "outputs": [
    {
     "name": "stdout",
     "output_type": "stream",
     "text": [
      "accept the null hypothesis\n"
     ]
    }
   ],
   "source": [
    "if p_value<alpha:\n",
    "    print(\"reject the null hypothesis\")\n",
    "else:\n",
    "    print(\"accept the null hypothesis\")"
   ]
  },
  {
   "cell_type": "code",
   "execution_count": null,
   "id": "4d33ca58-fac7-412b-af8a-24d51b6971ba",
   "metadata": {},
   "outputs": [],
   "source": []
  }
 ],
 "metadata": {
  "kernelspec": {
   "display_name": "conda env: base",
   "language": "python",
   "name": "base"
  },
  "language_info": {
   "codemirror_mode": {
    "name": "ipython",
    "version": 3
   },
   "file_extension": ".py",
   "mimetype": "text/x-python",
   "name": "python",
   "nbconvert_exporter": "python",
   "pygments_lexer": "ipython3",
   "version": "3.13.5"
  },
  "widgets": {
   "application/vnd.jupyter.widget-state+json": {
    "state": {},
    "version_major": 2,
    "version_minor": 0
   }
  }
 },
 "nbformat": 4,
 "nbformat_minor": 5
}
