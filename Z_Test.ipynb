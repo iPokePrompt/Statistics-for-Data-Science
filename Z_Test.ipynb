{
 "cells": [
  {
   "cell_type": "code",
   "execution_count": 1,
   "id": "83d88b46-9a29-4d67-bac5-408b01b5a389",
   "metadata": {},
   "outputs": [],
   "source": [
    "import numpy as np\n",
    "from scipy.stats import norm\n"
   ]
  },
  {
   "cell_type": "code",
   "execution_count": 2,
   "id": "be4faccc-aa16-4955-909a-7a63326a9ea6",
   "metadata": {},
   "outputs": [],
   "source": [
    "sample=[172,174,168,169,171,173,175,170,169,172]\n",
    "population_mean=170\n",
    "population_std=3\n",
    "sample_mean=np.mean(sample)\n",
    "n= len(sample)"
   ]
  },
  {
   "cell_type": "code",
   "execution_count": 3,
   "id": "2907b75c-af1b-4817-9d12-446c64aabebb",
   "metadata": {},
   "outputs": [
    {
     "data": {
      "text/plain": [
       "np.float64(1.3703203194063098)"
      ]
     },
     "execution_count": 3,
     "metadata": {},
     "output_type": "execute_result"
    }
   ],
   "source": [
    "z_score=(sample_mean-population_mean)/(population_std/np.sqrt(n))\n",
    "z_score"
   ]
  },
  {
   "cell_type": "code",
   "execution_count": 5,
   "id": "28d6c095-fc3b-45cd-89a7-dcf2372ed081",
   "metadata": {},
   "outputs": [
    {
     "data": {
      "text/plain": [
       "np.float64(0.17058693287143756)"
      ]
     },
     "execution_count": 5,
     "metadata": {},
     "output_type": "execute_result"
    }
   ],
   "source": [
    "p_value = 2*(1-norm.cdf(abs(z_score)))        # cummulative diffrence function\n",
    "p_value"
   ]
  },
  {
   "cell_type": "code",
   "execution_count": 6,
   "id": "d9469a71-88bb-4907-8e1a-42de8f6dd21d",
   "metadata": {},
   "outputs": [
    {
     "name": "stdout",
     "output_type": "stream",
     "text": [
      "i will accept the null hypothesis\n"
     ]
    }
   ],
   "source": [
    "alpha = 0.05\n",
    "\n",
    "if p_value<alpha:\n",
    "    print(\"i will reject the null hypothesis\")\n",
    "else:\n",
    "    print(\"i will accept the null hypothesis\")"
   ]
  },
  {
   "cell_type": "code",
   "execution_count": null,
   "id": "a6a2ca0a-6a05-4307-b7fd-909ab95b1971",
   "metadata": {},
   "outputs": [],
   "source": []
  }
 ],
 "metadata": {
  "kernelspec": {
   "display_name": "conda env: base",
   "language": "python",
   "name": "base"
  },
  "language_info": {
   "codemirror_mode": {
    "name": "ipython",
    "version": 3
   },
   "file_extension": ".py",
   "mimetype": "text/x-python",
   "name": "python",
   "nbconvert_exporter": "python",
   "pygments_lexer": "ipython3",
   "version": "3.13.5"
  },
  "widgets": {
   "application/vnd.jupyter.widget-state+json": {
    "state": {},
    "version_major": 2,
    "version_minor": 0
   }
  }
 },
 "nbformat": 4,
 "nbformat_minor": 5
}
