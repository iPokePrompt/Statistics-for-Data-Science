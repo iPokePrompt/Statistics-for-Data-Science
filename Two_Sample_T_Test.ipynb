{
 "cells": [
  {
   "cell_type": "code",
   "execution_count": 1,
   "id": "6e2ea99c-5a01-4061-8ba5-2b51dad5dcbd",
   "metadata": {},
   "outputs": [],
   "source": [
    "import numpy as np \n",
    "from scipy import stats "
   ]
  },
  {
   "cell_type": "code",
   "execution_count": 2,
   "id": "c9b5e6e3-ab08-42ec-9786-5621f8171277",
   "metadata": {},
   "outputs": [
    {
     "data": {
      "text/plain": [
       "np.float64(5.829604009507161)"
      ]
     },
     "execution_count": 2,
     "metadata": {},
     "output_type": "execute_result"
    }
   ],
   "source": [
    "group_A = [85, 88, 90, 92, 87, 85, 89, 91, 86, 88] \n",
    "group_B = [82, 84, 80, 83, 81, 79, 78, 85, 84, 83]  \n",
    "t_stats , p_value = stats.ttest_ind(group_A, group_B , equal_var= False)\n",
    "t_stats"
   ]
  },
  {
   "cell_type": "code",
   "execution_count": 3,
   "id": "fa74d34b-652c-4afe-bd3f-6d2c804c779f",
   "metadata": {},
   "outputs": [
    {
     "name": "stdout",
     "output_type": "stream",
     "text": [
      "I will reject the null hypothesis \n"
     ]
    }
   ],
   "source": [
    "alpha = 0.05\n",
    "if p_value < alpha:\n",
    "    print(\"I will reject the null hypothesis \")\n",
    "else:\n",
    "    print(\"i will accept the null hypothesis\" )"
   ]
  },
  {
   "cell_type": "code",
   "execution_count": null,
   "id": "63d28ea2-4e4e-4626-aba9-021a4364074d",
   "metadata": {},
   "outputs": [],
   "source": []
  }
 ],
 "metadata": {
  "kernelspec": {
   "display_name": "conda env: base",
   "language": "python",
   "name": "base"
  },
  "language_info": {
   "codemirror_mode": {
    "name": "ipython",
    "version": 3
   },
   "file_extension": ".py",
   "mimetype": "text/x-python",
   "name": "python",
   "nbconvert_exporter": "python",
   "pygments_lexer": "ipython3",
   "version": "3.13.5"
  },
  "widgets": {
   "application/vnd.jupyter.widget-state+json": {
    "state": {},
    "version_major": 2,
    "version_minor": 0
   }
  }
 },
 "nbformat": 4,
 "nbformat_minor": 5
}
